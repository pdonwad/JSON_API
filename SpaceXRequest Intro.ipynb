{
 "cells": [
  {
   "cell_type": "code",
   "execution_count": null,
   "metadata": {
    "collapsed": true
   },
   "outputs": [],
   "source": [
    "#Take a few minutes to explore the SpaceX API: https://api.spacexdata.com/v2/launchpads/\n",
    "\n",
    "#Once you understand the structure of the API and its endpoint, choose one of the endpoints and do the following:\n",
    "\n",
    "#Retrieve and print the JSON for all of the records from your chosen endpoint.\n",
    "\n",
    "#Retrieve and print the JSON for the a specific record from your chosen endpoint."
   ]
  },
  {
   "cell_type": "code",
   "execution_count": 11,
   "metadata": {
    "collapsed": true
   },
   "outputs": [],
   "source": [
    "#dependancies\n",
    "import requests as req\n",
    "import json as js"
   ]
  },
  {
   "cell_type": "code",
   "execution_count": 12,
   "metadata": {
    "collapsed": true
   },
   "outputs": [],
   "source": [
    "#Retrieve data : the SpaceX API: https://api.spacexdata.com/v2/launchpads/\n",
    "# set the variable # URL for GET request to retreive the vehicle data.\n",
    "url = \"https://api.spacexdata.com/v2/launchpads/\""
   ]
  },
  {
   "cell_type": "code",
   "execution_count": 13,
   "metadata": {},
   "outputs": [
    {
     "name": "stdout",
     "output_type": "stream",
     "text": [
      "{\n",
      "    \"details\": \"SpaceX original west coast launch pad for Falcon 1. Performed a static fire but was never used for a launch and abandoned due to scheduling conflicts.\",\n",
      "    \"full_name\": \"Vandenberg Air Force Base Space Launch Complex 3W\",\n",
      "    \"id\": \"vafb_slc_3w\",\n",
      "    \"location\": {\n",
      "        \"latitude\": 34.6440904,\n",
      "        \"longitude\": -120.5931438,\n",
      "        \"name\": \"Vandenberg Air Force Base\",\n",
      "        \"region\": \"California\"\n",
      "    },\n",
      "    \"status\": \"retired\",\n",
      "    \"vehicles_launched\": \"falcon 9\"\n",
      "}\n"
     ]
    }
   ],
   "source": [
    "#print the output. # +id\":\"vafb_slc_3w is retreiving specific response.\n",
    "response = req.get(url +\"vafb_slc_3w\").json()\n",
    "print (js.dumps(response, indent= 4 , sort_keys=True))"
   ]
  }
 ],
 "metadata": {
  "kernelspec": {
   "display_name": "Python 3",
   "language": "python",
   "name": "python3"
  },
  "language_info": {
   "codemirror_mode": {
    "name": "ipython",
    "version": 3
   },
   "file_extension": ".py",
   "mimetype": "text/x-python",
   "name": "python",
   "nbconvert_exporter": "python",
   "pygments_lexer": "ipython3",
   "version": "3.6.3"
  }
 },
 "nbformat": 4,
 "nbformat_minor": 2
}
